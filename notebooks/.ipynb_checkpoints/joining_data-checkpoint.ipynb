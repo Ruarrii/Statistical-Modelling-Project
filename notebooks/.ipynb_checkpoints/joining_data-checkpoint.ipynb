{
 "cells": [
  {
   "cell_type": "markdown",
   "metadata": {},
   "source": [
    "Join the data from Part 1 with the data from Part 2 to create a new dataframe."
   ]
  },
  {
   "cell_type": "code",
   "execution_count": 32,
   "metadata": {},
   "outputs": [],
   "source": [
    "import pandas as pd\n",
    "import numpy as np\n",
    "import seaborn as sns\n",
    "import matplotlib.pyplot as plt\n",
    "import sqlite3 as sqlite\n",
    "from sqlite3 import Error\n",
    "\n",
    "%matplotlib inline\n",
    "sns.set(color_codes = True)"
   ]
  },
  {
   "cell_type": "code",
   "execution_count": 3,
   "metadata": {},
   "outputs": [
    {
     "name": "stdout",
     "output_type": "stream",
     "text": [
      "         lat       lon  free_bikes  empty_slots                  ll\n",
      "0  49.326898  8.544466           5            1  49.326898,8.544466\n",
      "1  49.317716  8.542873           2            4  49.317716,8.542873\n",
      "2  49.311285  8.546140           0            6   49.311285,8.54614\n",
      "3  49.334484  8.534902           2            4  49.334484,8.534902\n",
      "4  49.317325  8.538029           1           11  49.317325,8.538029\n",
      "5  49.316164  8.564873           5            0  49.316164,8.564873\n",
      "6  49.326049  8.565699           2            2  49.326049,8.565699\n",
      "7  49.317835  8.548447           0            6  49.317835,8.548447\n"
     ]
    }
   ],
   "source": [
    "# read stations csv file\n",
    "stations_df = pd.read_csv(\"CSVs/stations.csv\")\n",
    "stations_df = stations_df.drop('Unnamed: 0', axis = 1)\n",
    "\n",
    "print(stations_df)"
   ]
  },
  {
   "cell_type": "code",
   "execution_count": 5,
   "metadata": {},
   "outputs": [
    {
     "name": "stdout",
     "output_type": "stream",
     "text": [
      "   f_num_bars  f_POIs                  ll\n",
      "0           9       3  49.326898,8.544466\n",
      "1          10       4  49.317716,8.542873\n",
      "2           5       1   49.311285,8.54614\n",
      "3           0       0  49.334484,8.534902\n",
      "4           9       4  49.317325,8.538029\n",
      "5           1       4  49.316164,8.564873\n",
      "6           0       2  49.326049,8.565699\n",
      "7           8       2  49.317835,8.548447\n"
     ]
    }
   ],
   "source": [
    "# read foursquare csv file\n",
    "foursquare_df = pd.read_csv(\"CSVs/foursquare.csv\")\n",
    "foursquare_df = foursquare_df.drop('Unnamed: 0', axis = 1)\n",
    "\n",
    "print(foursquare_df)"
   ]
  },
  {
   "cell_type": "code",
   "execution_count": 6,
   "metadata": {},
   "outputs": [
    {
     "name": "stdout",
     "output_type": "stream",
     "text": [
      "   y_num_bars  y_num_pois                  ll\n",
      "0           1          14  49.326898,8.544466\n",
      "1           2          13  49.317716,8.542873\n",
      "2           2          12   49.311285,8.54614\n",
      "3           0           1  49.334484,8.534902\n",
      "4           2          13  49.317325,8.538029\n",
      "5           0           0  49.316164,8.564873\n",
      "6           0           0  49.326049,8.565699\n",
      "7           2          12  49.317835,8.548447\n"
     ]
    }
   ],
   "source": [
    "# read yelp csv file\n",
    "yelp_df = pd.read_csv(\"CSVs/yelp.csv\")\n",
    "yelp_df = yelp_df.drop('Unnamed: 0', axis = 1)\n",
    "\n",
    "print(yelp_df)"
   ]
  },
  {
   "cell_type": "code",
   "execution_count": 7,
   "metadata": {},
   "outputs": [
    {
     "data": {
      "text/html": [
       "<div>\n",
       "<style scoped>\n",
       "    .dataframe tbody tr th:only-of-type {\n",
       "        vertical-align: middle;\n",
       "    }\n",
       "\n",
       "    .dataframe tbody tr th {\n",
       "        vertical-align: top;\n",
       "    }\n",
       "\n",
       "    .dataframe thead th {\n",
       "        text-align: right;\n",
       "    }\n",
       "</style>\n",
       "<table border=\"1\" class=\"dataframe\">\n",
       "  <thead>\n",
       "    <tr style=\"text-align: right;\">\n",
       "      <th></th>\n",
       "      <th>lat</th>\n",
       "      <th>lon</th>\n",
       "      <th>free_bikes</th>\n",
       "      <th>empty_slots</th>\n",
       "      <th>ll</th>\n",
       "      <th>f_num_bars</th>\n",
       "      <th>f_POIs</th>\n",
       "      <th>ll</th>\n",
       "      <th>y_num_bars</th>\n",
       "      <th>y_num_pois</th>\n",
       "      <th>ll</th>\n",
       "    </tr>\n",
       "  </thead>\n",
       "  <tbody>\n",
       "    <tr>\n",
       "      <th>0</th>\n",
       "      <td>49.326898</td>\n",
       "      <td>8.544466</td>\n",
       "      <td>5</td>\n",
       "      <td>1</td>\n",
       "      <td>49.326898,8.544466</td>\n",
       "      <td>9</td>\n",
       "      <td>3</td>\n",
       "      <td>49.326898,8.544466</td>\n",
       "      <td>1</td>\n",
       "      <td>14</td>\n",
       "      <td>49.326898,8.544466</td>\n",
       "    </tr>\n",
       "    <tr>\n",
       "      <th>1</th>\n",
       "      <td>49.317716</td>\n",
       "      <td>8.542873</td>\n",
       "      <td>2</td>\n",
       "      <td>4</td>\n",
       "      <td>49.317716,8.542873</td>\n",
       "      <td>10</td>\n",
       "      <td>4</td>\n",
       "      <td>49.317716,8.542873</td>\n",
       "      <td>2</td>\n",
       "      <td>13</td>\n",
       "      <td>49.317716,8.542873</td>\n",
       "    </tr>\n",
       "    <tr>\n",
       "      <th>2</th>\n",
       "      <td>49.311285</td>\n",
       "      <td>8.546140</td>\n",
       "      <td>0</td>\n",
       "      <td>6</td>\n",
       "      <td>49.311285,8.54614</td>\n",
       "      <td>5</td>\n",
       "      <td>1</td>\n",
       "      <td>49.311285,8.54614</td>\n",
       "      <td>2</td>\n",
       "      <td>12</td>\n",
       "      <td>49.311285,8.54614</td>\n",
       "    </tr>\n",
       "    <tr>\n",
       "      <th>3</th>\n",
       "      <td>49.334484</td>\n",
       "      <td>8.534902</td>\n",
       "      <td>2</td>\n",
       "      <td>4</td>\n",
       "      <td>49.334484,8.534902</td>\n",
       "      <td>0</td>\n",
       "      <td>0</td>\n",
       "      <td>49.334484,8.534902</td>\n",
       "      <td>0</td>\n",
       "      <td>1</td>\n",
       "      <td>49.334484,8.534902</td>\n",
       "    </tr>\n",
       "    <tr>\n",
       "      <th>4</th>\n",
       "      <td>49.317325</td>\n",
       "      <td>8.538029</td>\n",
       "      <td>1</td>\n",
       "      <td>11</td>\n",
       "      <td>49.317325,8.538029</td>\n",
       "      <td>9</td>\n",
       "      <td>4</td>\n",
       "      <td>49.317325,8.538029</td>\n",
       "      <td>2</td>\n",
       "      <td>13</td>\n",
       "      <td>49.317325,8.538029</td>\n",
       "    </tr>\n",
       "    <tr>\n",
       "      <th>5</th>\n",
       "      <td>49.316164</td>\n",
       "      <td>8.564873</td>\n",
       "      <td>5</td>\n",
       "      <td>0</td>\n",
       "      <td>49.316164,8.564873</td>\n",
       "      <td>1</td>\n",
       "      <td>4</td>\n",
       "      <td>49.316164,8.564873</td>\n",
       "      <td>0</td>\n",
       "      <td>0</td>\n",
       "      <td>49.316164,8.564873</td>\n",
       "    </tr>\n",
       "    <tr>\n",
       "      <th>6</th>\n",
       "      <td>49.326049</td>\n",
       "      <td>8.565699</td>\n",
       "      <td>2</td>\n",
       "      <td>2</td>\n",
       "      <td>49.326049,8.565699</td>\n",
       "      <td>0</td>\n",
       "      <td>2</td>\n",
       "      <td>49.326049,8.565699</td>\n",
       "      <td>0</td>\n",
       "      <td>0</td>\n",
       "      <td>49.326049,8.565699</td>\n",
       "    </tr>\n",
       "    <tr>\n",
       "      <th>7</th>\n",
       "      <td>49.317835</td>\n",
       "      <td>8.548447</td>\n",
       "      <td>0</td>\n",
       "      <td>6</td>\n",
       "      <td>49.317835,8.548447</td>\n",
       "      <td>8</td>\n",
       "      <td>2</td>\n",
       "      <td>49.317835,8.548447</td>\n",
       "      <td>2</td>\n",
       "      <td>12</td>\n",
       "      <td>49.317835,8.548447</td>\n",
       "    </tr>\n",
       "  </tbody>\n",
       "</table>\n",
       "</div>"
      ],
      "text/plain": [
       "         lat       lon  free_bikes  empty_slots                  ll  \\\n",
       "0  49.326898  8.544466           5            1  49.326898,8.544466   \n",
       "1  49.317716  8.542873           2            4  49.317716,8.542873   \n",
       "2  49.311285  8.546140           0            6   49.311285,8.54614   \n",
       "3  49.334484  8.534902           2            4  49.334484,8.534902   \n",
       "4  49.317325  8.538029           1           11  49.317325,8.538029   \n",
       "5  49.316164  8.564873           5            0  49.316164,8.564873   \n",
       "6  49.326049  8.565699           2            2  49.326049,8.565699   \n",
       "7  49.317835  8.548447           0            6  49.317835,8.548447   \n",
       "\n",
       "   f_num_bars  f_POIs                  ll  y_num_bars  y_num_pois  \\\n",
       "0           9       3  49.326898,8.544466           1          14   \n",
       "1          10       4  49.317716,8.542873           2          13   \n",
       "2           5       1   49.311285,8.54614           2          12   \n",
       "3           0       0  49.334484,8.534902           0           1   \n",
       "4           9       4  49.317325,8.538029           2          13   \n",
       "5           1       4  49.316164,8.564873           0           0   \n",
       "6           0       2  49.326049,8.565699           0           0   \n",
       "7           8       2  49.317835,8.548447           2          12   \n",
       "\n",
       "                   ll  \n",
       "0  49.326898,8.544466  \n",
       "1  49.317716,8.542873  \n",
       "2   49.311285,8.54614  \n",
       "3  49.334484,8.534902  \n",
       "4  49.317325,8.538029  \n",
       "5  49.316164,8.564873  \n",
       "6  49.326049,8.565699  \n",
       "7  49.317835,8.548447  "
      ]
     },
     "execution_count": 7,
     "metadata": {},
     "output_type": "execute_result"
    }
   ],
   "source": [
    "main_df = pd.DataFrame()\n",
    "main_df = pd.concat([stations_df, foursquare_df, yelp_df], axis = 1)\n",
    "main_df"
   ]
  },
  {
   "cell_type": "code",
   "execution_count": 8,
   "metadata": {},
   "outputs": [
    {
     "name": "stdout",
     "output_type": "stream",
     "text": [
      "<class 'pandas.core.frame.DataFrame'>\n",
      "RangeIndex: 8 entries, 0 to 7\n",
      "Data columns (total 11 columns):\n",
      " #   Column       Non-Null Count  Dtype  \n",
      "---  ------       --------------  -----  \n",
      " 0   lat          8 non-null      float64\n",
      " 1   lon          8 non-null      float64\n",
      " 2   free_bikes   8 non-null      int64  \n",
      " 3   empty_slots  8 non-null      int64  \n",
      " 4   ll           8 non-null      object \n",
      " 5   f_num_bars   8 non-null      int64  \n",
      " 6   f_POIs       8 non-null      int64  \n",
      " 7   ll           8 non-null      object \n",
      " 8   y_num_bars   8 non-null      int64  \n",
      " 9   y_num_pois   8 non-null      int64  \n",
      " 10  ll           8 non-null      object \n",
      "dtypes: float64(2), int64(6), object(3)\n",
      "memory usage: 832.0+ bytes\n"
     ]
    }
   ],
   "source": [
    "main_df.info()"
   ]
  },
  {
   "cell_type": "code",
   "execution_count": null,
   "metadata": {},
   "outputs": [],
   "source": [
    "main_df = main_df.drop(['ll'], axis = 1)\n",
    "main_df"
   ]
  },
  {
   "cell_type": "code",
   "execution_count": 16,
   "metadata": {},
   "outputs": [
    {
     "data": {
      "text/html": [
       "<div>\n",
       "<style scoped>\n",
       "    .dataframe tbody tr th:only-of-type {\n",
       "        vertical-align: middle;\n",
       "    }\n",
       "\n",
       "    .dataframe tbody tr th {\n",
       "        vertical-align: top;\n",
       "    }\n",
       "\n",
       "    .dataframe thead th {\n",
       "        text-align: right;\n",
       "    }\n",
       "</style>\n",
       "<table border=\"1\" class=\"dataframe\">\n",
       "  <thead>\n",
       "    <tr style=\"text-align: right;\">\n",
       "      <th></th>\n",
       "      <th>lat</th>\n",
       "      <th>lon</th>\n",
       "      <th>free_bikes</th>\n",
       "      <th>empty_slots</th>\n",
       "      <th>f_num_bars</th>\n",
       "      <th>f_POIs</th>\n",
       "      <th>y_num_bars</th>\n",
       "      <th>y_num_pois</th>\n",
       "      <th>ll</th>\n",
       "    </tr>\n",
       "  </thead>\n",
       "  <tbody>\n",
       "    <tr>\n",
       "      <th>0</th>\n",
       "      <td>49.326898</td>\n",
       "      <td>8.544466</td>\n",
       "      <td>5</td>\n",
       "      <td>1</td>\n",
       "      <td>9</td>\n",
       "      <td>3</td>\n",
       "      <td>1</td>\n",
       "      <td>14</td>\n",
       "      <td>49.326898,8.544466</td>\n",
       "    </tr>\n",
       "    <tr>\n",
       "      <th>1</th>\n",
       "      <td>49.317716</td>\n",
       "      <td>8.542873</td>\n",
       "      <td>2</td>\n",
       "      <td>4</td>\n",
       "      <td>10</td>\n",
       "      <td>4</td>\n",
       "      <td>2</td>\n",
       "      <td>13</td>\n",
       "      <td>49.317716,8.542873</td>\n",
       "    </tr>\n",
       "    <tr>\n",
       "      <th>2</th>\n",
       "      <td>49.311285</td>\n",
       "      <td>8.546140</td>\n",
       "      <td>0</td>\n",
       "      <td>6</td>\n",
       "      <td>5</td>\n",
       "      <td>1</td>\n",
       "      <td>2</td>\n",
       "      <td>12</td>\n",
       "      <td>49.311285,8.54614</td>\n",
       "    </tr>\n",
       "    <tr>\n",
       "      <th>3</th>\n",
       "      <td>49.334484</td>\n",
       "      <td>8.534902</td>\n",
       "      <td>2</td>\n",
       "      <td>4</td>\n",
       "      <td>0</td>\n",
       "      <td>0</td>\n",
       "      <td>0</td>\n",
       "      <td>1</td>\n",
       "      <td>49.334484,8.534902</td>\n",
       "    </tr>\n",
       "    <tr>\n",
       "      <th>4</th>\n",
       "      <td>49.317325</td>\n",
       "      <td>8.538029</td>\n",
       "      <td>1</td>\n",
       "      <td>11</td>\n",
       "      <td>9</td>\n",
       "      <td>4</td>\n",
       "      <td>2</td>\n",
       "      <td>13</td>\n",
       "      <td>49.317325,8.538029</td>\n",
       "    </tr>\n",
       "    <tr>\n",
       "      <th>5</th>\n",
       "      <td>49.316164</td>\n",
       "      <td>8.564873</td>\n",
       "      <td>5</td>\n",
       "      <td>0</td>\n",
       "      <td>1</td>\n",
       "      <td>4</td>\n",
       "      <td>0</td>\n",
       "      <td>0</td>\n",
       "      <td>49.316164,8.564873</td>\n",
       "    </tr>\n",
       "    <tr>\n",
       "      <th>6</th>\n",
       "      <td>49.326049</td>\n",
       "      <td>8.565699</td>\n",
       "      <td>2</td>\n",
       "      <td>2</td>\n",
       "      <td>0</td>\n",
       "      <td>2</td>\n",
       "      <td>0</td>\n",
       "      <td>0</td>\n",
       "      <td>49.326049,8.565699</td>\n",
       "    </tr>\n",
       "    <tr>\n",
       "      <th>7</th>\n",
       "      <td>49.317835</td>\n",
       "      <td>8.548447</td>\n",
       "      <td>0</td>\n",
       "      <td>6</td>\n",
       "      <td>8</td>\n",
       "      <td>2</td>\n",
       "      <td>2</td>\n",
       "      <td>12</td>\n",
       "      <td>49.317835,8.548447</td>\n",
       "    </tr>\n",
       "  </tbody>\n",
       "</table>\n",
       "</div>"
      ],
      "text/plain": [
       "         lat       lon  free_bikes  empty_slots  f_num_bars  f_POIs  \\\n",
       "0  49.326898  8.544466           5            1           9       3   \n",
       "1  49.317716  8.542873           2            4          10       4   \n",
       "2  49.311285  8.546140           0            6           5       1   \n",
       "3  49.334484  8.534902           2            4           0       0   \n",
       "4  49.317325  8.538029           1           11           9       4   \n",
       "5  49.316164  8.564873           5            0           1       4   \n",
       "6  49.326049  8.565699           2            2           0       2   \n",
       "7  49.317835  8.548447           0            6           8       2   \n",
       "\n",
       "   y_num_bars  y_num_pois                  ll  \n",
       "0           1          14  49.326898,8.544466  \n",
       "1           2          13  49.317716,8.542873  \n",
       "2           2          12   49.311285,8.54614  \n",
       "3           0           1  49.334484,8.534902  \n",
       "4           2          13  49.317325,8.538029  \n",
       "5           0           0  49.316164,8.564873  \n",
       "6           0           0  49.326049,8.565699  \n",
       "7           2          12  49.317835,8.548447  "
      ]
     },
     "execution_count": 16,
     "metadata": {},
     "output_type": "execute_result"
    }
   ],
   "source": [
    "main_df = pd.concat([main_df, foursquare_df['ll']], axis = 1)\n",
    "main_df"
   ]
  },
  {
   "cell_type": "code",
   "execution_count": 17,
   "metadata": {},
   "outputs": [
    {
     "data": {
      "text/html": [
       "<div>\n",
       "<style scoped>\n",
       "    .dataframe tbody tr th:only-of-type {\n",
       "        vertical-align: middle;\n",
       "    }\n",
       "\n",
       "    .dataframe tbody tr th {\n",
       "        vertical-align: top;\n",
       "    }\n",
       "\n",
       "    .dataframe thead th {\n",
       "        text-align: right;\n",
       "    }\n",
       "</style>\n",
       "<table border=\"1\" class=\"dataframe\">\n",
       "  <thead>\n",
       "    <tr style=\"text-align: right;\">\n",
       "      <th></th>\n",
       "      <th>free_bikes</th>\n",
       "      <th>empty_slots</th>\n",
       "      <th>f_num_bars</th>\n",
       "      <th>f_POIs</th>\n",
       "      <th>y_num_bars</th>\n",
       "      <th>y_num_pois</th>\n",
       "      <th>ll</th>\n",
       "    </tr>\n",
       "  </thead>\n",
       "  <tbody>\n",
       "    <tr>\n",
       "      <th>0</th>\n",
       "      <td>5</td>\n",
       "      <td>1</td>\n",
       "      <td>9</td>\n",
       "      <td>3</td>\n",
       "      <td>1</td>\n",
       "      <td>14</td>\n",
       "      <td>49.326898,8.544466</td>\n",
       "    </tr>\n",
       "    <tr>\n",
       "      <th>1</th>\n",
       "      <td>2</td>\n",
       "      <td>4</td>\n",
       "      <td>10</td>\n",
       "      <td>4</td>\n",
       "      <td>2</td>\n",
       "      <td>13</td>\n",
       "      <td>49.317716,8.542873</td>\n",
       "    </tr>\n",
       "    <tr>\n",
       "      <th>2</th>\n",
       "      <td>0</td>\n",
       "      <td>6</td>\n",
       "      <td>5</td>\n",
       "      <td>1</td>\n",
       "      <td>2</td>\n",
       "      <td>12</td>\n",
       "      <td>49.311285,8.54614</td>\n",
       "    </tr>\n",
       "    <tr>\n",
       "      <th>3</th>\n",
       "      <td>2</td>\n",
       "      <td>4</td>\n",
       "      <td>0</td>\n",
       "      <td>0</td>\n",
       "      <td>0</td>\n",
       "      <td>1</td>\n",
       "      <td>49.334484,8.534902</td>\n",
       "    </tr>\n",
       "    <tr>\n",
       "      <th>4</th>\n",
       "      <td>1</td>\n",
       "      <td>11</td>\n",
       "      <td>9</td>\n",
       "      <td>4</td>\n",
       "      <td>2</td>\n",
       "      <td>13</td>\n",
       "      <td>49.317325,8.538029</td>\n",
       "    </tr>\n",
       "    <tr>\n",
       "      <th>5</th>\n",
       "      <td>5</td>\n",
       "      <td>0</td>\n",
       "      <td>1</td>\n",
       "      <td>4</td>\n",
       "      <td>0</td>\n",
       "      <td>0</td>\n",
       "      <td>49.316164,8.564873</td>\n",
       "    </tr>\n",
       "    <tr>\n",
       "      <th>6</th>\n",
       "      <td>2</td>\n",
       "      <td>2</td>\n",
       "      <td>0</td>\n",
       "      <td>2</td>\n",
       "      <td>0</td>\n",
       "      <td>0</td>\n",
       "      <td>49.326049,8.565699</td>\n",
       "    </tr>\n",
       "    <tr>\n",
       "      <th>7</th>\n",
       "      <td>0</td>\n",
       "      <td>6</td>\n",
       "      <td>8</td>\n",
       "      <td>2</td>\n",
       "      <td>2</td>\n",
       "      <td>12</td>\n",
       "      <td>49.317835,8.548447</td>\n",
       "    </tr>\n",
       "  </tbody>\n",
       "</table>\n",
       "</div>"
      ],
      "text/plain": [
       "   free_bikes  empty_slots  f_num_bars  f_POIs  y_num_bars  y_num_pois  \\\n",
       "0           5            1           9       3           1          14   \n",
       "1           2            4          10       4           2          13   \n",
       "2           0            6           5       1           2          12   \n",
       "3           2            4           0       0           0           1   \n",
       "4           1           11           9       4           2          13   \n",
       "5           5            0           1       4           0           0   \n",
       "6           2            2           0       2           0           0   \n",
       "7           0            6           8       2           2          12   \n",
       "\n",
       "                   ll  \n",
       "0  49.326898,8.544466  \n",
       "1  49.317716,8.542873  \n",
       "2   49.311285,8.54614  \n",
       "3  49.334484,8.534902  \n",
       "4  49.317325,8.538029  \n",
       "5  49.316164,8.564873  \n",
       "6  49.326049,8.565699  \n",
       "7  49.317835,8.548447  "
      ]
     },
     "execution_count": 17,
     "metadata": {},
     "output_type": "execute_result"
    }
   ],
   "source": [
    "main_df = main_df.drop(['lat', 'lon'], axis = 1)\n",
    "main_df"
   ]
  },
  {
   "cell_type": "code",
   "execution_count": 47,
   "metadata": {},
   "outputs": [],
   "source": [
    "main_df.to_csv(\"joined_data.csv\")"
   ]
  },
  {
   "cell_type": "code",
   "execution_count": 19,
   "metadata": {},
   "outputs": [
    {
     "data": {
      "text/plain": [
       "(8, 7)"
      ]
     },
     "execution_count": 19,
     "metadata": {},
     "output_type": "execute_result"
    }
   ],
   "source": [
    "main_df.shape"
   ]
  },
  {
   "cell_type": "code",
   "execution_count": 20,
   "metadata": {},
   "outputs": [
    {
     "name": "stdout",
     "output_type": "stream",
     "text": [
      "number pf duplicate rows:  (0, 7)\n"
     ]
    }
   ],
   "source": [
    "duplicate_rows_df = main_df[main_df.duplicated()]\n",
    "print('number pf duplicate rows: ', duplicate_rows_df.shape)"
   ]
  },
  {
   "cell_type": "markdown",
   "metadata": {},
   "source": [
    "There are no duplicate rows."
   ]
  },
  {
   "cell_type": "code",
   "execution_count": 22,
   "metadata": {},
   "outputs": [
    {
     "data": {
      "text/plain": [
       "<Axes: xlabel='empty_slots'>"
      ]
     },
     "execution_count": 22,
     "metadata": {},
     "output_type": "execute_result"
    },
    {
     "data": {
      "image/png": "[encoded data removed]",
      "text/plain": [
       "<Figure size 640x480 with 1 Axes>"
      ]
     },
     "metadata": {},
     "output_type": "display_data"
    }
   ],
   "source": [
    "sns.boxplot(x = main_df['empty_slots'])"
   ]
  },
  {
   "cell_type": "code",
   "execution_count": 23,
   "metadata": {},
   "outputs": [
    {
     "data": {
      "text/plain": [
       "<Axes: xlabel='y_num_pois'>"
      ]
     },
     "execution_count": 23,
     "metadata": {},
     "output_type": "execute_result"
    },
    {
     "data": {
      "image/png": "[encoded data removed]",
      "text/plain": [
       "<Figure size 640x480 with 1 Axes>"
      ]
     },
     "metadata": {},
     "output_type": "display_data"
    }
   ],
   "source": [
    "sns.boxplot(x = main_df['y_num_pois'])"
   ]
  },
  {
   "cell_type": "markdown",
   "metadata": {},
   "source": [
    "There don't appear to be any real outliers in the data"
   ]
  },
  {
   "cell_type": "code",
   "execution_count": 24,
   "metadata": {},
   "outputs": [
    {
     "data": {
      "text/plain": [
       "<Axes: >"
      ]
     },
     "execution_count": 24,
     "metadata": {},
     "output_type": "execute_result"
    },
    {
     "data": {
      "image/png": "[encoded data removed]",
      "text/plain": [
       "<Figure size 1000x500 with 1 Axes>"
      ]
     },
     "metadata": {},
     "output_type": "display_data"
    }
   ],
   "source": [
    "main_df.plot(kind = 'bar', figsize = (10,5))"
   ]
  },
  {
   "cell_type": "code",
   "execution_count": 25,
   "metadata": {},
   "outputs": [
    {
     "name": "stderr",
     "output_type": "stream",
     "text": [
      "C:\\Users\\opera\\AppData\\Local\\Temp\\ipykernel_6724\\1209534231.py:2: FutureWarning: The default value of numeric_only in DataFrame.corr is deprecated. In a future version, it will default to False. Select only valid columns or specify the value of numeric_only to silence this warning.\n",
      "  corr = main_df.corr()\n"
     ]
    },
    {
     "data": {
      "text/html": [
       "<div>\n",
       "<style scoped>\n",
       "    .dataframe tbody tr th:only-of-type {\n",
       "        vertical-align: middle;\n",
       "    }\n",
       "\n",
       "    .dataframe tbody tr th {\n",
       "        vertical-align: top;\n",
       "    }\n",
       "\n",
       "    .dataframe thead th {\n",
       "        text-align: right;\n",
       "    }\n",
       "</style>\n",
       "<table border=\"1\" class=\"dataframe\">\n",
       "  <thead>\n",
       "    <tr style=\"text-align: right;\">\n",
       "      <th></th>\n",
       "      <th>free_bikes</th>\n",
       "      <th>empty_slots</th>\n",
       "      <th>f_num_bars</th>\n",
       "      <th>f_POIs</th>\n",
       "      <th>y_num_bars</th>\n",
       "      <th>y_num_pois</th>\n",
       "    </tr>\n",
       "  </thead>\n",
       "  <tbody>\n",
       "    <tr>\n",
       "      <th>free_bikes</th>\n",
       "      <td>1.000000</td>\n",
       "      <td>-7.562245e-01</td>\n",
       "      <td>-0.172420</td>\n",
       "      <td>4.099064e-01</td>\n",
       "      <td>-0.597741</td>\n",
       "      <td>-0.304703</td>\n",
       "    </tr>\n",
       "    <tr>\n",
       "      <th>empty_slots</th>\n",
       "      <td>-0.756224</td>\n",
       "      <td>1.000000e+00</td>\n",
       "      <td>0.447969</td>\n",
       "      <td>-1.200680e-17</td>\n",
       "      <td>0.690869</td>\n",
       "      <td>0.508558</td>\n",
       "    </tr>\n",
       "    <tr>\n",
       "      <th>f_num_bars</th>\n",
       "      <td>-0.172420</td>\n",
       "      <td>4.479687e-01</td>\n",
       "      <td>1.000000</td>\n",
       "      <td>5.014238e-01</td>\n",
       "      <td>0.856403</td>\n",
       "      <td>0.953450</td>\n",
       "    </tr>\n",
       "    <tr>\n",
       "      <th>f_POIs</th>\n",
       "      <td>0.409906</td>\n",
       "      <td>-1.200680e-17</td>\n",
       "      <td>0.501424</td>\n",
       "      <td>1.000000e+00</td>\n",
       "      <td>0.238366</td>\n",
       "      <td>0.283894</td>\n",
       "    </tr>\n",
       "    <tr>\n",
       "      <th>y_num_bars</th>\n",
       "      <td>-0.597741</td>\n",
       "      <td>6.908685e-01</td>\n",
       "      <td>0.856403</td>\n",
       "      <td>2.383656e-01</td>\n",
       "      <td>1.000000</td>\n",
       "      <td>0.907826</td>\n",
       "    </tr>\n",
       "    <tr>\n",
       "      <th>y_num_pois</th>\n",
       "      <td>-0.304703</td>\n",
       "      <td>5.085580e-01</td>\n",
       "      <td>0.953450</td>\n",
       "      <td>2.838936e-01</td>\n",
       "      <td>0.907826</td>\n",
       "      <td>1.000000</td>\n",
       "    </tr>\n",
       "  </tbody>\n",
       "</table>\n",
       "</div>"
      ],
      "text/plain": [
       "             free_bikes   empty_slots  f_num_bars        f_POIs  y_num_bars  \\\n",
       "free_bikes     1.000000 -7.562245e-01   -0.172420  4.099064e-01   -0.597741   \n",
       "empty_slots   -0.756224  1.000000e+00    0.447969 -1.200680e-17    0.690869   \n",
       "f_num_bars    -0.172420  4.479687e-01    1.000000  5.014238e-01    0.856403   \n",
       "f_POIs         0.409906 -1.200680e-17    0.501424  1.000000e+00    0.238366   \n",
       "y_num_bars    -0.597741  6.908685e-01    0.856403  2.383656e-01    1.000000   \n",
       "y_num_pois    -0.304703  5.085580e-01    0.953450  2.838936e-01    0.907826   \n",
       "\n",
       "             y_num_pois  \n",
       "free_bikes    -0.304703  \n",
       "empty_slots    0.508558  \n",
       "f_num_bars     0.953450  \n",
       "f_POIs         0.283894  \n",
       "y_num_bars     0.907826  \n",
       "y_num_pois     1.000000  "
      ]
     },
     "execution_count": 25,
     "metadata": {},
     "output_type": "execute_result"
    },
    {
     "data": {
      "image/png": "[encoded data removed]",
      "text/plain": [
       "<Figure size 1000x500 with 2 Axes>"
      ]
     },
     "metadata": {},
     "output_type": "display_data"
    }
   ],
   "source": [
    "plt.figure(figsize = (10,5))\n",
    "corr = main_df.corr()\n",
    "sns.heatmap(corr, cmap = 'BrBG', annot = True)\n",
    "corr"
   ]
  },
  {
   "cell_type": "markdown",
   "metadata": {},
   "source": [
    "From the above heatmap, we can see that the number of free bikes depends mainly upon the number of empty slots and the number of yelp bars."
   ]
  },
  {
   "cell_type": "code",
   "execution_count": 26,
   "metadata": {},
   "outputs": [
    {
     "data": {
      "image/png": "[encoded data removed]",
      "text/plain": [
       "<Figure size 1000x600 with 1 Axes>"
      ]
     },
     "metadata": {},
     "output_type": "display_data"
    }
   ],
   "source": [
    "fig, ax = plt.subplots(figsize = (10,6))\n",
    "ax.scatter(main_df['empty_slots'], main_df['free_bikes'])\n",
    "ax.set_xlabel('empty slots')\n",
    "ax.set_ylabel('free bikes')\n",
    "plt.show()"
   ]
  },
  {
   "cell_type": "code",
   "execution_count": 28,
   "metadata": {},
   "outputs": [],
   "source": [
    "import seaborn as sb"
   ]
  },
  {
   "cell_type": "code",
   "execution_count": 31,
   "metadata": {},
   "outputs": [
    {
     "data": {
      "text/plain": [
       "<Axes: xlabel='empty_slots', ylabel='free_bikes'>"
      ]
     },
     "execution_count": 31,
     "metadata": {},
     "output_type": "execute_result"
    },
    {
     "data": {
      "image/png": "[encoded data removed]",
      "text/plain": [
       "<Figure size 640x480 with 1 Axes>"
      ]
     },
     "metadata": {},
     "output_type": "display_data"
    }
   ],
   "source": [
    "sb.regplot(x = main_df['empty_slots'], y = main_df['free_bikes'], order = 2, ci = None) "
   ]
  },
  {
   "cell_type": "markdown",
   "metadata": {},
   "source": [
    "Provide a visualization that you used as part of your EDA process. Explain the initial pattern or relationship you discoved through this visualization. "
   ]
  },
  {
   "cell_type": "markdown",
   "metadata": {},
   "source": [
    "I found that there is a parabolic relationship between the number of free bikes available and the number of empty bike slots."
   ]
  },
  {
   "cell_type": "markdown",
   "metadata": {},
   "source": [
    "# Database"
   ]
  },
  {
   "cell_type": "markdown",
   "metadata": {},
   "source": [
    "Put all your results in an SQLite3 database (remember, SQLite stores its databases as files in your local machine - make sure to create your database in your project's data/ directory!)"
   ]
  },
  {
   "cell_type": "code",
   "execution_count": 36,
   "metadata": {},
   "outputs": [],
   "source": [
    "# creating a function to connect to the sqlite database in python\n",
    "def create_connection(path):\n",
    "    connection = None\n",
    "    try:\n",
    "        connection = sqlite.connect(path)\n",
    "        print(\"Connection to SQLite DB successful\")\n",
    "    except Error as e:\n",
    "        print(f\"The error '{e}' occurred\")\n",
    "        \n",
    "    return connection"
   ]
  },
  {
   "cell_type": "code",
   "execution_count": 34,
   "metadata": {},
   "outputs": [
    {
     "name": "stdout",
     "output_type": "stream",
     "text": [
      "Connection to SQLite DB successful\n"
     ]
    }
   ],
   "source": [
    "# creating and connecting to the sqlite database project_2\n",
    "connection = create_connection(\"project_2.sqlite\")"
   ]
  },
  {
   "cell_type": "code",
   "execution_count": 37,
   "metadata": {},
   "outputs": [],
   "source": [
    "# creating a function to execute queries\n",
    "def execute_query(connection, query):\n",
    "    cursor = connection.cursor()\n",
    "    try:\n",
    "        cursor.execute(query)\n",
    "        connection.commit()\n",
    "        print(\"Query executed successfully\")\n",
    "    except Error as e:\n",
    "        print(f\"The error '{e}' occurred\")"
   ]
  },
  {
   "cell_type": "code",
   "execution_count": null,
   "metadata": {},
   "outputs": [],
   "source": [
    "create_bikes_table = \"\"\"\n",
    "CREATE TABLE IF NOT EXISTS bikes (\n",
    "    id INTEGER PRIMARY KEY AUTOINCREMENT,\n",
    "    free_bikes INTEGER,\n",
    "    empty_slots INTEGER\n",
    ");\n",
    "\"\"\""
   ]
  },
  {
   "cell_type": "code",
   "execution_count": null,
   "metadata": {},
   "outputs": [
    {
     "name": "stdout",
     "output_type": "stream",
     "text": [
      "Query executed successfully\n"
     ]
    }
   ],
   "source": [
    "execute_query(connection, create_bikes_table)"
   ]
  },
  {
   "cell_type": "code",
   "execution_count": null,
   "metadata": {},
   "outputs": [],
   "source": [
    "create_bars_table = \"\"\"\n",
    "CREATE TABLE IF NOT EXISTS bars (\n",
    "    id INTEGER PRIMARY KEY AUTOINCREMENT,\n",
    "    f_num_bars INTEGER,\n",
    "    y_num_bars INTEGER,\n",
    "    bikes_id INTEGER,\n",
    "    FOREIGN KEY (bikes_id) REFERENCES bikes (id)\n",
    ");\n",
    "\"\"\""
   ]
  },
  {
   "cell_type": "code",
   "execution_count": null,
   "metadata": {},
   "outputs": [
    {
     "name": "stdout",
     "output_type": "stream",
     "text": [
      "Query executed successfully\n"
     ]
    }
   ],
   "source": [
    "execute_query(connection, create_bars_table)"
   ]
  },
  {
   "cell_type": "code",
   "execution_count": null,
   "metadata": {},
   "outputs": [],
   "source": [
    "create_pois_table = \"\"\"\n",
    "CREATE TABLE IF NOT EXISTS pois (\n",
    "    id INTEGER PRIMARY KEY AUTOINCREMENT,\n",
    "    f_num_pois INTEGER,\n",
    "    y_num_pois INTEGER,\n",
    "    bikes_id INTEGER,\n",
    "    FOREIGN KEY (bikes_id) REFERENCES bikes (id)\n",
    ");\n",
    "\"\"\""
   ]
  },
  {
   "cell_type": "code",
   "execution_count": null,
   "metadata": {},
   "outputs": [
    {
     "name": "stdout",
     "output_type": "stream",
     "text": [
      "Query executed successfully\n"
     ]
    }
   ],
   "source": [
    "execute_query(connection, create_pois_table)"
   ]
  },
  {
   "cell_type": "code",
   "execution_count": 53,
   "metadata": {},
   "outputs": [],
   "source": [
    "bikes_df = main_df[['free_bikes', 'empty_slots']]\n",
    "bikes_df['index'] = [0,1,2,3,4,5,6,7]"
   ]
  },
  {
   "cell_type": "code",
   "execution_count": 56,
   "metadata": {},
   "outputs": [
    {
     "data": {
      "text/plain": [
       "8"
      ]
     },
     "execution_count": 56,
     "metadata": {},
     "output_type": "execute_result"
    }
   ],
   "source": [
    "bikes_df.to_sql('bikes', connection, if_exists = 'replace')"
   ]
  },
  {
   "cell_type": "code",
   "execution_count": 57,
   "metadata": {},
   "outputs": [
    {
     "name": "stderr",
     "output_type": "stream",
     "text": [
      "C:\\Users\\opera\\AppData\\Local\\Temp\\ipykernel_6724\\2972725188.py:2: SettingWithCopyWarning: \n",
      "A value is trying to be set on a copy of a slice from a DataFrame.\n",
      "Try using .loc[row_indexer,col_indexer] = value instead\n",
      "\n",
      "See the caveats in the documentation: https://pandas.pydata.org/pandas-docs/stable/user_guide/indexing.html#returning-a-view-versus-a-copy\n",
      "  bars_df['index'] = [0,1,2,3,4,5,6,7]\n"
     ]
    }
   ],
   "source": [
    "bars_df = main_df[['f_num_bars', 'y_num_bars']]\n",
    "bars_df['index'] = [0,1,2,3,4,5,6,7]"
   ]
  },
  {
   "cell_type": "code",
   "execution_count": 58,
   "metadata": {},
   "outputs": [
    {
     "data": {
      "text/plain": [
       "8"
      ]
     },
     "execution_count": 58,
     "metadata": {},
     "output_type": "execute_result"
    }
   ],
   "source": [
    "bars_df.to_sql('bars', connection, if_exists = 'replace')"
   ]
  },
  {
   "cell_type": "code",
   "execution_count": 60,
   "metadata": {},
   "outputs": [
    {
     "name": "stderr",
     "output_type": "stream",
     "text": [
      "C:\\Users\\opera\\AppData\\Local\\Temp\\ipykernel_6724\\3374272723.py:2: SettingWithCopyWarning: \n",
      "A value is trying to be set on a copy of a slice from a DataFrame.\n",
      "Try using .loc[row_indexer,col_indexer] = value instead\n",
      "\n",
      "See the caveats in the documentation: https://pandas.pydata.org/pandas-docs/stable/user_guide/indexing.html#returning-a-view-versus-a-copy\n",
      "  pois_df['index'] = [0,1,2,3,4,5,6,7]\n"
     ]
    }
   ],
   "source": [
    "pois_df = main_df[['f_POIs', 'y_num_pois']]\n",
    "pois_df['index'] = [0,1,2,3,4,5,6,7]"
   ]
  },
  {
   "cell_type": "code",
   "execution_count": 61,
   "metadata": {},
   "outputs": [
    {
     "data": {
      "text/plain": [
       "8"
      ]
     },
     "execution_count": 61,
     "metadata": {},
     "output_type": "execute_result"
    }
   ],
   "source": [
    "pois_df.to_sql('pois', connection, if_exists = 'replace')"
   ]
  },
  {
   "cell_type": "code",
   "execution_count": 62,
   "metadata": {},
   "outputs": [],
   "source": [
    "# function to read queries\n",
    "def execute_read_query(connection, query):\n",
    "    cursor = connection.cursor()\n",
    "    result = None\n",
    "    try:\n",
    "        cursor.execute(query)\n",
    "        result = cursor.fetchall()\n",
    "        return result\n",
    "    except Error as e:\n",
    "        print(f\"The error '{e}' occurred\")"
   ]
  },
  {
   "cell_type": "code",
   "execution_count": 63,
   "metadata": {},
   "outputs": [
    {
     "name": "stdout",
     "output_type": "stream",
     "text": [
      "(0, 5, 1)\n",
      "(1, 2, 4)\n",
      "(2, 0, 6)\n",
      "(3, 2, 4)\n",
      "(4, 1, 11)\n",
      "(5, 5, 0)\n",
      "(6, 2, 2)\n",
      "(7, 0, 6)\n"
     ]
    }
   ],
   "source": [
    "# Now let's select all records from the bikes table\n",
    "select_bikes = \"SELECT * FROM bikes;\"\n",
    "bikes = execute_read_query(connection, select_bikes)\n",
    "\n",
    "for bike in bikes:\n",
    "    print(bike)"
   ]
  },
  {
   "cell_type": "markdown",
   "metadata": {},
   "source": [
    "Look at the data before and after the join to validate your data."
   ]
  },
  {
   "cell_type": "code",
   "execution_count": null,
   "metadata": {},
   "outputs": [],
   "source": []
  }
 ],
 "metadata": {
  "kernelspec": {
   "display_name": "lhl_env",
   "language": "python",
   "name": "lhl_env"
  },
  "language_info": {
   "codemirror_mode": {
    "name": "ipython",
    "version": 3
   },
   "file_extension": ".py",
   "mimetype": "text/x-python",
   "name": "python",
   "nbconvert_exporter": "python",
   "pygments_lexer": "ipython3",
   "version": "3.9.7"
  }
 },
 "nbformat": 4,
 "nbformat_minor": 4
}
