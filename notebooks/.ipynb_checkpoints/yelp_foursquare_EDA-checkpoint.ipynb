{
 "cells": [
  {
   "cell_type": "code",
   "execution_count": 31,
   "metadata": {
    "tags": []
   },
   "outputs": [],
   "source": [
    "# imports\n",
    "import requests\n",
    "import pandas as pd\n",
    "import numpy as np\n",
    "import os\n",
    "\n",
    "from IPython.display import JSON"
   ]
  },
  {
   "cell_type": "markdown",
   "metadata": {},
   "source": [
    "# Foursquare"
   ]
  },
  {
   "cell_type": "markdown",
   "metadata": {},
   "source": [
    "Send a request to Foursquare with a small radius (1000m) for all the bike stations in your city of choice. "
   ]
  },
  {
   "cell_type": "code",
   "execution_count": 32,
   "metadata": {
    "tags": []
   },
   "outputs": [],
   "source": [
    "#set the keys\n",
    "foursquare_id = os.environ[\"FOURSQUARE_API_ID\"]\n",
    "foursquare_secret = os.environ[\"FOURSQUARE_API_SECRET\"]\n",
    "foursquare_api_key = os.environ[\"FOURSQUARE_API_KEY\"]"
   ]
  },
  {
   "cell_type": "code",
   "execution_count": 33,
   "metadata": {
    "tags": []
   },
   "outputs": [
    {
     "name": "stdout",
     "output_type": "stream",
     "text": [
      "         lat       lon  free_bikes  empty_slots                  ll\n",
      "0  49.326898  8.544466           5            1  49.326898,8.544466\n",
      "1  49.317716  8.542873           2            4  49.317716,8.542873\n",
      "2  49.311285  8.546140           0            6   49.311285,8.54614\n",
      "3  49.334484  8.534902           2            4  49.334484,8.534902\n",
      "4  49.317325  8.538029           1           11  49.317325,8.538029\n",
      "5  49.316164  8.564873           5            0  49.316164,8.564873\n",
      "6  49.326049  8.565699           2            2  49.326049,8.565699\n",
      "7  49.317835  8.548447           0            6  49.317835,8.548447\n"
     ]
    }
   ],
   "source": [
    "# read stations csv file\n",
    "stations_df = pd.read_csv(\"CSVs/stations.csv\")\n",
    "stations_df = stations_df.drop('Unnamed: 0', axis = 1)\n",
    "\n",
    "print(stations_df)"
   ]
  },
  {
   "cell_type": "code",
   "execution_count": 34,
   "metadata": {
    "scrolled": true,
    "tags": []
   },
   "outputs": [],
   "source": [
    "# defining a function to get the number of bars for each coordinate\n",
    "\n",
    "def get_venues(coordinates):\n",
    "    url = \"https://api.foursquare.com/v3/places/search\"\n",
    "\n",
    "    params = {\n",
    "        \"categories\": \"13003\",\n",
    "        \"ll\": str(coordinates),\n",
    "        'radius': \"1000\",\n",
    "        \"sort\":\"DISTANCE\",\n",
    "        \"limit\":\"50\"\n",
    "    }\n",
    "\n",
    "    headers = {\n",
    "        \"Accept\": \"application/json\",\n",
    "        \"Authorization\": foursquare_api_key\n",
    "    }\n",
    "    # Get the request\n",
    "    response = requests.request(\"GET\", url, params=params, headers=headers)\n",
    "    # Convert to python object with .json()\n",
    "    res = response.json()\n",
    "    # Return the number of bars in that area\n",
    "    num_bars = len(res['results'])\n",
    "    return num_bars\n",
    "    "
   ]
  },
  {
   "cell_type": "code",
   "execution_count": 35,
   "metadata": {
    "tags": []
   },
   "outputs": [],
   "source": [
    "foursquare_df = pd.DataFrame()\n",
    "# add the number of bars to the dataframe\n",
    "foursquare_df['f_num_bars'] = stations_df['ll'].apply(get_venues)"
   ]
  },
  {
   "cell_type": "code",
   "execution_count": 36,
   "metadata": {
    "tags": []
   },
   "outputs": [
    {
     "data": {
      "text/html": [
       "<div>\n",
       "<style scoped>\n",
       "    .dataframe tbody tr th:only-of-type {\n",
       "        vertical-align: middle;\n",
       "    }\n",
       "\n",
       "    .dataframe tbody tr th {\n",
       "        vertical-align: top;\n",
       "    }\n",
       "\n",
       "    .dataframe thead th {\n",
       "        text-align: right;\n",
       "    }\n",
       "</style>\n",
       "<table border=\"1\" class=\"dataframe\">\n",
       "  <thead>\n",
       "    <tr style=\"text-align: right;\">\n",
       "      <th></th>\n",
       "      <th>f_num_bars</th>\n",
       "    </tr>\n",
       "  </thead>\n",
       "  <tbody>\n",
       "    <tr>\n",
       "      <th>0</th>\n",
       "      <td>9</td>\n",
       "    </tr>\n",
       "    <tr>\n",
       "      <th>1</th>\n",
       "      <td>10</td>\n",
       "    </tr>\n",
       "    <tr>\n",
       "      <th>2</th>\n",
       "      <td>5</td>\n",
       "    </tr>\n",
       "    <tr>\n",
       "      <th>3</th>\n",
       "      <td>0</td>\n",
       "    </tr>\n",
       "    <tr>\n",
       "      <th>4</th>\n",
       "      <td>9</td>\n",
       "    </tr>\n",
       "    <tr>\n",
       "      <th>5</th>\n",
       "      <td>1</td>\n",
       "    </tr>\n",
       "    <tr>\n",
       "      <th>6</th>\n",
       "      <td>0</td>\n",
       "    </tr>\n",
       "    <tr>\n",
       "      <th>7</th>\n",
       "      <td>8</td>\n",
       "    </tr>\n",
       "  </tbody>\n",
       "</table>\n",
       "</div>"
      ],
      "text/plain": [
       "   f_num_bars\n",
       "0           9\n",
       "1          10\n",
       "2           5\n",
       "3           0\n",
       "4           9\n",
       "5           1\n",
       "6           0\n",
       "7           8"
      ]
     },
     "execution_count": 36,
     "metadata": {},
     "output_type": "execute_result"
    }
   ],
   "source": [
    "foursquare_df"
   ]
  },
  {
   "cell_type": "code",
   "execution_count": 37,
   "metadata": {
    "tags": []
   },
   "outputs": [],
   "source": [
    "# defining a function to get the number of POIs for each location\n",
    "\n",
    "def get_pois(coordinates):\n",
    "    url = \"https://api.foursquare.com/v3/places/search\"\n",
    "\n",
    "    params = {\n",
    "        \"categories\": \"16000\",\n",
    "        \"ll\": str(coordinates),\n",
    "        'radius': \"1000\",\n",
    "        \"sort\":\"DISTANCE\",\n",
    "        \"limit\":\"50\"\n",
    "    }\n",
    "\n",
    "    headers = {\n",
    "        \"Accept\": \"application/json\",\n",
    "        \"Authorization\": foursquare_api_key\n",
    "    }\n",
    "    # Get the request\n",
    "    response = requests.request(\"GET\", url, params=params, headers=headers)\n",
    "    # Convert to python object with .json()\n",
    "    res = response.json()\n",
    "    # Return the number of bars in that area\n",
    "    num_pois = len(res['results'])\n",
    "    return num_pois"
   ]
  },
  {
   "cell_type": "code",
   "execution_count": 38,
   "metadata": {
    "tags": []
   },
   "outputs": [],
   "source": [
    "# add the number of POIs to the dataframe\n",
    "foursquare_df['f_POIs'] = stations_df['ll'].apply(get_pois)"
   ]
  },
  {
   "cell_type": "code",
   "execution_count": 39,
   "metadata": {
    "tags": []
   },
   "outputs": [
    {
     "data": {
      "text/html": [
       "<div>\n",
       "<style scoped>\n",
       "    .dataframe tbody tr th:only-of-type {\n",
       "        vertical-align: middle;\n",
       "    }\n",
       "\n",
       "    .dataframe tbody tr th {\n",
       "        vertical-align: top;\n",
       "    }\n",
       "\n",
       "    .dataframe thead th {\n",
       "        text-align: right;\n",
       "    }\n",
       "</style>\n",
       "<table border=\"1\" class=\"dataframe\">\n",
       "  <thead>\n",
       "    <tr style=\"text-align: right;\">\n",
       "      <th></th>\n",
       "      <th>f_num_bars</th>\n",
       "      <th>f_POIs</th>\n",
       "      <th>ll</th>\n",
       "    </tr>\n",
       "  </thead>\n",
       "  <tbody>\n",
       "    <tr>\n",
       "      <th>0</th>\n",
       "      <td>9</td>\n",
       "      <td>3</td>\n",
       "      <td>49.326898,8.544466</td>\n",
       "    </tr>\n",
       "    <tr>\n",
       "      <th>1</th>\n",
       "      <td>10</td>\n",
       "      <td>4</td>\n",
       "      <td>49.317716,8.542873</td>\n",
       "    </tr>\n",
       "    <tr>\n",
       "      <th>2</th>\n",
       "      <td>5</td>\n",
       "      <td>1</td>\n",
       "      <td>49.311285,8.54614</td>\n",
       "    </tr>\n",
       "    <tr>\n",
       "      <th>3</th>\n",
       "      <td>0</td>\n",
       "      <td>0</td>\n",
       "      <td>49.334484,8.534902</td>\n",
       "    </tr>\n",
       "    <tr>\n",
       "      <th>4</th>\n",
       "      <td>9</td>\n",
       "      <td>4</td>\n",
       "      <td>49.317325,8.538029</td>\n",
       "    </tr>\n",
       "    <tr>\n",
       "      <th>5</th>\n",
       "      <td>1</td>\n",
       "      <td>4</td>\n",
       "      <td>49.316164,8.564873</td>\n",
       "    </tr>\n",
       "    <tr>\n",
       "      <th>6</th>\n",
       "      <td>0</td>\n",
       "      <td>2</td>\n",
       "      <td>49.326049,8.565699</td>\n",
       "    </tr>\n",
       "    <tr>\n",
       "      <th>7</th>\n",
       "      <td>8</td>\n",
       "      <td>2</td>\n",
       "      <td>49.317835,8.548447</td>\n",
       "    </tr>\n",
       "  </tbody>\n",
       "</table>\n",
       "</div>"
      ],
      "text/plain": [
       "   f_num_bars  f_POIs                  ll\n",
       "0           9       3  49.326898,8.544466\n",
       "1          10       4  49.317716,8.542873\n",
       "2           5       1   49.311285,8.54614\n",
       "3           0       0  49.334484,8.534902\n",
       "4           9       4  49.317325,8.538029\n",
       "5           1       4  49.316164,8.564873\n",
       "6           0       2  49.326049,8.565699\n",
       "7           8       2  49.317835,8.548447"
      ]
     },
     "execution_count": 39,
     "metadata": {},
     "output_type": "execute_result"
    }
   ],
   "source": [
    "foursquare_df['ll'] = stations_df['ll']\n",
    "foursquare_df"
   ]
  },
  {
   "cell_type": "code",
   "execution_count": 88,
   "metadata": {},
   "outputs": [],
   "source": [
    "foursquare_df.to_csv(\"foursquare.csv\")"
   ]
  },
  {
   "cell_type": "markdown",
   "metadata": {},
   "source": [
    "Parse through the response to get the POI (such as restaurants, bars, etc) details you want (ratings, name, location, etc)"
   ]
  },
  {
   "cell_type": "code",
   "execution_count": null,
   "metadata": {},
   "outputs": [],
   "source": []
  },
  {
   "cell_type": "markdown",
   "metadata": {},
   "source": [
    "Put your parsed results into a DataFrame"
   ]
  },
  {
   "cell_type": "code",
   "execution_count": null,
   "metadata": {},
   "outputs": [],
   "source": []
  },
  {
   "cell_type": "markdown",
   "metadata": {},
   "source": [
    "# Yelp"
   ]
  },
  {
   "cell_type": "markdown",
   "metadata": {},
   "source": [
    "Send a request to Yelp with a small radius (1000m) for all the bike stations in your city of choice. "
   ]
  },
  {
   "cell_type": "code",
   "execution_count": 11,
   "metadata": {
    "tags": []
   },
   "outputs": [],
   "source": [
    "#set the key\n",
    "yelp_api_key = os.environ[\"YELP_API_KEY\"]"
   ]
  },
  {
   "cell_type": "code",
   "execution_count": 40,
   "metadata": {},
   "outputs": [],
   "source": [
    "# defining a function to get the number of bars for each coordinate\n",
    "\n",
    "def get_venues_yelp(lat, lon):\n",
    "    url = \"https://api.yelp.com/v3/businesses/search?\"\n",
    "\n",
    "    params = {\n",
    "        \"categories\": \"bars\",\n",
    "        \"latitude\": str(lat),\n",
    "        \"longitude\": str(lon),\n",
    "        \"radius\": \"1000\",\n",
    "        \"sort\":\"distance\",\n",
    "        \"limit\":\"50\"\n",
    "    }\n",
    "\n",
    "    headers = {\n",
    "        \"accept\": \"application/json\",\n",
    "        \"Authorization\": \"Bearer \" + yelp_api_key\n",
    "    }\n",
    "    # Get the request\n",
    "    response = requests.request(\"GET\", url, params=params, headers=headers)\n",
    "    # Convert to python object with .json()\n",
    "    res = response.json()\n",
    "    # Return the number of bars in that area\n",
    "    num_bars = len(res['businesses'])\n",
    "    return num_bars"
   ]
  },
  {
   "cell_type": "code",
   "execution_count": 41,
   "metadata": {},
   "outputs": [
    {
     "name": "stdout",
     "output_type": "stream",
     "text": [
      "[1, 2, 2, 0, 2, 0, 0, 2]\n"
     ]
    }
   ],
   "source": [
    "yelp_df = pd.DataFrame()\n",
    "# creating the yelp DataFrame\n",
    "index = 0\n",
    "num_bars = []\n",
    "\n",
    "for entry in stations_df['lat']:\n",
    "    \n",
    "    lat = stations_df['lat'][index]\n",
    "    lon = stations_df['lon'][index]\n",
    "    index += 1\n",
    "    num_bars.append(get_venues_yelp(lat, lon))\n",
    "    \n",
    "print(num_bars)"
   ]
  },
  {
   "cell_type": "code",
   "execution_count": 42,
   "metadata": {},
   "outputs": [],
   "source": [
    "yelp_df['y_num_bars'] = num_bars"
   ]
  },
  {
   "cell_type": "code",
   "execution_count": 43,
   "metadata": {
    "scrolled": true,
    "tags": []
   },
   "outputs": [
    {
     "data": {
      "text/html": [
       "<div>\n",
       "<style scoped>\n",
       "    .dataframe tbody tr th:only-of-type {\n",
       "        vertical-align: middle;\n",
       "    }\n",
       "\n",
       "    .dataframe tbody tr th {\n",
       "        vertical-align: top;\n",
       "    }\n",
       "\n",
       "    .dataframe thead th {\n",
       "        text-align: right;\n",
       "    }\n",
       "</style>\n",
       "<table border=\"1\" class=\"dataframe\">\n",
       "  <thead>\n",
       "    <tr style=\"text-align: right;\">\n",
       "      <th></th>\n",
       "      <th>y_num_bars</th>\n",
       "    </tr>\n",
       "  </thead>\n",
       "  <tbody>\n",
       "    <tr>\n",
       "      <th>0</th>\n",
       "      <td>1</td>\n",
       "    </tr>\n",
       "    <tr>\n",
       "      <th>1</th>\n",
       "      <td>2</td>\n",
       "    </tr>\n",
       "    <tr>\n",
       "      <th>2</th>\n",
       "      <td>2</td>\n",
       "    </tr>\n",
       "    <tr>\n",
       "      <th>3</th>\n",
       "      <td>0</td>\n",
       "    </tr>\n",
       "    <tr>\n",
       "      <th>4</th>\n",
       "      <td>2</td>\n",
       "    </tr>\n",
       "    <tr>\n",
       "      <th>5</th>\n",
       "      <td>0</td>\n",
       "    </tr>\n",
       "    <tr>\n",
       "      <th>6</th>\n",
       "      <td>0</td>\n",
       "    </tr>\n",
       "    <tr>\n",
       "      <th>7</th>\n",
       "      <td>2</td>\n",
       "    </tr>\n",
       "  </tbody>\n",
       "</table>\n",
       "</div>"
      ],
      "text/plain": [
       "   y_num_bars\n",
       "0           1\n",
       "1           2\n",
       "2           2\n",
       "3           0\n",
       "4           2\n",
       "5           0\n",
       "6           0\n",
       "7           2"
      ]
     },
     "execution_count": 43,
     "metadata": {},
     "output_type": "execute_result"
    }
   ],
   "source": [
    "yelp_df"
   ]
  },
  {
   "cell_type": "code",
   "execution_count": 44,
   "metadata": {},
   "outputs": [],
   "source": [
    "# defining a function to get the number of POIs for each coordinate\n",
    "\n",
    "def get_venues_yelp(lat, lon):\n",
    "    url = \"https://api.yelp.com/v3/businesses/search?\"\n",
    "\n",
    "    params = {\n",
    "        \"categories\": \"eventservices\",\n",
    "        \"latitude\": str(lat),\n",
    "        \"longitude\": str(lon),\n",
    "        \"radius\": \"1000\",\n",
    "        \"sort\":\"distance\",\n",
    "        \"limit\":\"50\"\n",
    "    }\n",
    "\n",
    "    headers = {\n",
    "        \"accept\": \"application/json\",\n",
    "        \"Authorization\": \"Bearer \" + yelp_api_key\n",
    "    }\n",
    "    # Get the request\n",
    "    response = requests.request(\"GET\", url, params=params, headers=headers)\n",
    "    # Convert to python object with .json()\n",
    "    res = response.json()\n",
    "    # Return the number of bars in that area\n",
    "    num_pois = len(res['businesses'])\n",
    "    return num_pois"
   ]
  },
  {
   "cell_type": "code",
   "execution_count": 45,
   "metadata": {},
   "outputs": [
    {
     "name": "stdout",
     "output_type": "stream",
     "text": [
      "[14, 13, 12, 1, 13, 0, 0, 12]\n"
     ]
    }
   ],
   "source": [
    "# finding the number of POIs\n",
    "index = 0\n",
    "num_pois = []\n",
    "\n",
    "for entry in stations_df['lat']:\n",
    "    \n",
    "    lat = stations_df['lat'][index]\n",
    "    lon = stations_df['lon'][index]\n",
    "    index += 1\n",
    "    num_pois.append(get_venues_yelp(lat, lon))\n",
    "    \n",
    "print(num_pois)"
   ]
  },
  {
   "cell_type": "code",
   "execution_count": 47,
   "metadata": {},
   "outputs": [
    {
     "data": {
      "text/html": [
       "<div>\n",
       "<style scoped>\n",
       "    .dataframe tbody tr th:only-of-type {\n",
       "        vertical-align: middle;\n",
       "    }\n",
       "\n",
       "    .dataframe tbody tr th {\n",
       "        vertical-align: top;\n",
       "    }\n",
       "\n",
       "    .dataframe thead th {\n",
       "        text-align: right;\n",
       "    }\n",
       "</style>\n",
       "<table border=\"1\" class=\"dataframe\">\n",
       "  <thead>\n",
       "    <tr style=\"text-align: right;\">\n",
       "      <th></th>\n",
       "      <th>y_num_bars</th>\n",
       "      <th>y_num_pois</th>\n",
       "      <th>ll</th>\n",
       "    </tr>\n",
       "  </thead>\n",
       "  <tbody>\n",
       "    <tr>\n",
       "      <th>0</th>\n",
       "      <td>1</td>\n",
       "      <td>14</td>\n",
       "      <td>49.326898,8.544466</td>\n",
       "    </tr>\n",
       "    <tr>\n",
       "      <th>1</th>\n",
       "      <td>2</td>\n",
       "      <td>13</td>\n",
       "      <td>49.317716,8.542873</td>\n",
       "    </tr>\n",
       "    <tr>\n",
       "      <th>2</th>\n",
       "      <td>2</td>\n",
       "      <td>12</td>\n",
       "      <td>49.311285,8.54614</td>\n",
       "    </tr>\n",
       "    <tr>\n",
       "      <th>3</th>\n",
       "      <td>0</td>\n",
       "      <td>1</td>\n",
       "      <td>49.334484,8.534902</td>\n",
       "    </tr>\n",
       "    <tr>\n",
       "      <th>4</th>\n",
       "      <td>2</td>\n",
       "      <td>13</td>\n",
       "      <td>49.317325,8.538029</td>\n",
       "    </tr>\n",
       "    <tr>\n",
       "      <th>5</th>\n",
       "      <td>0</td>\n",
       "      <td>0</td>\n",
       "      <td>49.316164,8.564873</td>\n",
       "    </tr>\n",
       "    <tr>\n",
       "      <th>6</th>\n",
       "      <td>0</td>\n",
       "      <td>0</td>\n",
       "      <td>49.326049,8.565699</td>\n",
       "    </tr>\n",
       "    <tr>\n",
       "      <th>7</th>\n",
       "      <td>2</td>\n",
       "      <td>12</td>\n",
       "      <td>49.317835,8.548447</td>\n",
       "    </tr>\n",
       "  </tbody>\n",
       "</table>\n",
       "</div>"
      ],
      "text/plain": [
       "   y_num_bars  y_num_pois                  ll\n",
       "0           1          14  49.326898,8.544466\n",
       "1           2          13  49.317716,8.542873\n",
       "2           2          12   49.311285,8.54614\n",
       "3           0           1  49.334484,8.534902\n",
       "4           2          13  49.317325,8.538029\n",
       "5           0           0  49.316164,8.564873\n",
       "6           0           0  49.326049,8.565699\n",
       "7           2          12  49.317835,8.548447"
      ]
     },
     "execution_count": 47,
     "metadata": {},
     "output_type": "execute_result"
    }
   ],
   "source": [
    "yelp_df['y_num_pois'] = num_pois\n",
    "yelp_df['ll'] = stations_df['ll']\n",
    "yelp_df"
   ]
  },
  {
   "cell_type": "code",
   "execution_count": 89,
   "metadata": {},
   "outputs": [],
   "source": [
    "yelp_df.to_csv(\"yelp.csv\")"
   ]
  },
  {
   "cell_type": "markdown",
   "metadata": {},
   "source": [
    "Parse through the response to get the POI (such as restaurants, bars, etc) details you want (ratings, name, location, etc)"
   ]
  },
  {
   "cell_type": "code",
   "execution_count": null,
   "metadata": {},
   "outputs": [],
   "source": []
  },
  {
   "cell_type": "markdown",
   "metadata": {},
   "source": [
    "Put your parsed results into a DataFrame"
   ]
  },
  {
   "cell_type": "markdown",
   "metadata": {},
   "source": []
  },
  {
   "cell_type": "markdown",
   "metadata": {},
   "source": [
    "# Comparing Results"
   ]
  },
  {
   "cell_type": "markdown",
   "metadata": {},
   "source": [
    "Which API provided you with more complete data? Provide an explanation. "
   ]
  },
  {
   "cell_type": "markdown",
   "metadata": {},
   "source": [
    "The Foursquare API provided more complete data as there are (slightly) fewer zeros for the number of bars and number of POIs in the area."
   ]
  },
  {
   "cell_type": "markdown",
   "metadata": {},
   "source": [
    "Get the top 10 restaurants according to their rating"
   ]
  },
  {
   "cell_type": "code",
   "execution_count": 64,
   "metadata": {},
   "outputs": [],
   "source": [
    "def get_venues(coordinates):\n",
    "    url = \"https://api.foursquare.com/v3/places/search\"\n",
    "\n",
    "    params = {\n",
    "        \"categories\": \"13065\",\n",
    "        \"ll\": str(coordinates),\n",
    "        'radius': \"1000\",\n",
    "        \"sort\":\"DISTANCE\",\n",
    "        \"limit\":\"50\",\n",
    "        \"fields\": \"name,rating\"\n",
    "    }\n",
    "\n",
    "    headers = {\n",
    "        \"Accept\": \"application/json\",\n",
    "        \"Authorization\": foursquare_api_key\n",
    "    }\n",
    "    # Get the request\n",
    "    response = requests.request(\"GET\", url, params=params, headers=headers)\n",
    "    # Convert to python object with .json()\n",
    "    res = response.json()\n",
    "    return res"
   ]
  },
  {
   "cell_type": "code",
   "execution_count": 65,
   "metadata": {},
   "outputs": [],
   "source": [
    "foursquare_rest = stations_df['ll'].apply(get_venues)"
   ]
  },
  {
   "cell_type": "code",
   "execution_count": 83,
   "metadata": {},
   "outputs": [
    {
     "data": {
      "text/plain": [
       "2"
      ]
     },
     "execution_count": 83,
     "metadata": {},
     "output_type": "execute_result"
    }
   ],
   "source": [
    "len(foursquare_rest[0]['results'][1])"
   ]
  },
  {
   "cell_type": "code",
   "execution_count": 75,
   "metadata": {},
   "outputs": [],
   "source": [
    "ratings = {'Dschingis Khan': 7.0,\n",
    "          'Knossos Palace': 6.7,\n",
    "          'Knossos Palace': 6.7,\n",
    "          'Dschingis Khan': 7.0,\n",
    "          'Knossos Palace': 6.7,\n",
    "          'Burger King': 5.8,\n",
    "          'Autobahnraststätte & Motel Hockenheimring West': 5.1,\n",
    "          'Knossos Palace': 6.7}"
   ]
  },
  {
   "cell_type": "code",
   "execution_count": 87,
   "metadata": {},
   "outputs": [
    {
     "name": "stdout",
     "output_type": "stream",
     "text": [
      "{'name': 'Autobahnraststätte & Motel Hockenheimring West', 'rating': 5.1}\n"
     ]
    }
   ],
   "source": [
    "rating = {}\n",
    "index = 0\n",
    "\n",
    "for entry in foursquare_rest:\n",
    "    index_2 = 0\n",
    "    for res in foursquare_rest[index]['results']:\n",
    "        if len(foursquare_rest[index]['results'][index_2]) == 2:\n",
    "            rating.update(foursquare_rest[index]['results'][index_2])\n",
    "            index_2 += 1\n",
    "        else:\n",
    "            continue\n",
    "    index += 1\n",
    "print(rating)"
   ]
  },
  {
   "cell_type": "code",
   "execution_count": 90,
   "metadata": {},
   "outputs": [
    {
     "name": "stdout",
     "output_type": "stream",
     "text": [
      "{\"McDonald's\": 6.1, 'Dschingis Khan': 7.0, 'Burger King': 5.8, 'Et Cetera': 6.6, 'Knossos Palace': 6.7, 'Autobahnraststätte & Motel Hockenheimring West': 5.1, 'Raststätte Am Hockenheimring Ost': 4.8}\n"
     ]
    }
   ],
   "source": [
    "rating = {}\n",
    "index = 0\n",
    "\n",
    "rating = {}\n",
    "\n",
    "for entry in foursquare_rest:\n",
    "    for result in entry['results']:\n",
    "        # Check if the 'rating' key is present in the dictionary\n",
    "        if 'rating' in result:\n",
    "            # Add the relevant information to the 'rating' dictionary\n",
    "            rating[result['name']] = result['rating']\n",
    "\n",
    "print(rating)"
   ]
  },
  {
   "cell_type": "markdown",
   "metadata": {},
   "source": [
    "As there are only seven restaurants with ratings in the data the above dictionary shows the top 7 rated restaurants for this area. "
   ]
  },
  {
   "cell_type": "code",
   "execution_count": null,
   "metadata": {},
   "outputs": [],
   "source": []
  }
 ],
 "metadata": {
  "kernelspec": {
   "display_name": "lhl_env",
   "language": "python",
   "name": "lhl_env"
  },
  "language_info": {
   "codemirror_mode": {
    "name": "ipython",
    "version": 3
   },
   "file_extension": ".py",
   "mimetype": "text/x-python",
   "name": "python",
   "nbconvert_exporter": "python",
   "pygments_lexer": "ipython3",
   "version": "3.9.7"
  }
 },
 "nbformat": 4,
 "nbformat_minor": 4
}
